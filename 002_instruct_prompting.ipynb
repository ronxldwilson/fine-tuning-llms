{
 "cells": [
  {
   "cell_type": "code",
   "execution_count": 3,
   "id": "9657bbf8",
   "metadata": {},
   "outputs": [],
   "source": [
    "from transformers import AutoModelForCausalLM, AutoTokenizer\n",
    "from transformers import pipeline\n",
    "\n",
    "import torch\n",
    "\n",
    "model_id = \"meta-llama/Llama-3.2-1B-Instruct\"\n",
    "device = \"cpu\"\n",
    "\n",
    "tokenizer = AutoTokenizer.from_pretrained(model_id, padding_side=\"left\")\n",
    "tokenizer.pad_token = tokenizer.eos_token\n",
    "\n",
    "model = AutoModelForCausalLM.from_pretrained(model_id, torch_dtype = torch.bfloat16, device_map = device)"
   ]
  },
  {
   "cell_type": "code",
   "execution_count": 4,
   "id": "cb1025e3",
   "metadata": {},
   "outputs": [
    {
     "name": "stdout",
     "output_type": "stream",
     "text": [
      "<|begin_of_text|><|start_header_id|>system<|end_header_id|>\n",
      "\n",
      "Cutting Knowledge Date: December 2023\n",
      "Today Date: 03 Jul 2025\n",
      "\n",
      "You are a smart person that acts as a pirate<|eot_id|><|start_header_id|>user<|end_header_id|>\n",
      "\n",
      "Where does the sun rises?<|eot_id|><|start_header_id|>assistant<|end_header_id|>\n",
      "\n",
      "Aye<|eot_id|><|start_header_id|>assistant<|end_header_id|>\n",
      "\n",
      "\n"
     ]
    }
   ],
   "source": [
    "prompt_template = [\n",
    "    {\n",
    "        \"role\": \"system\",\n",
    "        \"content\": \"You are a smart person that acts as a pirate\"\n",
    "    },\n",
    "    {\n",
    "        \"role\": \"user\",\n",
    "        \"content\": \"Where does the sun rises?\"\n",
    "    },\n",
    "    {\n",
    "        \"role\": \"assistant\",\n",
    "        \"content\": \"Aye\"\n",
    "    },\n",
    "]\n",
    "\n",
    "tokenizer.pad_token = tokenizer.eos_token\n",
    "\n",
    "tokenized = tokenizer.apply_chat_template(\n",
    "    prompt_template,\n",
    "    add_generation_prompt = True,\n",
    "    tokenize = False,\n",
    "    padding = True,\n",
    "    return_tensors = \"pt\" \n",
    ")\n",
    "\n",
    "print(tokenized)"
   ]
  },
  {
   "cell_type": "code",
   "execution_count": 5,
   "id": "19ac6a3f",
   "metadata": {},
   "outputs": [
    {
     "name": "stdout",
     "output_type": "stream",
     "text": [
      "tensor([[128000, 128006,   9125, 128007,    271,  38766,   1303,  33025,   2696,\n",
      "             25,   6790,    220,   2366,     18,    198,  15724,   2696,     25,\n",
      "            220,   2839,  10263,    220,   2366,     20,    271,   2675,    527,\n",
      "            264,   7941,   1732,    430,  14385,    439,    264,  55066, 128009,\n",
      "         128006,    882, 128007,    271,   9241,   1587,    279,   7160,  38268,\n",
      "             30, 128009, 128006,  78191, 128007,    271,     32,   9188, 128009,\n",
      "         128006,  78191, 128007,    271]])\n"
     ]
    }
   ],
   "source": [
    "prompt_template = [\n",
    "    {\n",
    "        \"role\": \"system\",\n",
    "        \"content\": \"You are a smart person that acts as a pirate\"\n",
    "    },\n",
    "    {\n",
    "        \"role\": \"user\",\n",
    "        \"content\": \"Where does the sun rises?\"\n",
    "    },\n",
    "    {\n",
    "        \"role\": \"assistant\",\n",
    "        \"content\": \"Aye\"\n",
    "    },\n",
    "]\n",
    "\n",
    "tokenizer.pad_token = tokenizer.eos_token\n",
    "\n",
    "tokenized = tokenizer.apply_chat_template(\n",
    "    prompt_template,\n",
    "    add_generation_prompt = True,\n",
    "    tokenize = True,\n",
    "    padding = True,\n",
    "    return_tensors = \"pt\" \n",
    ")\n",
    "\n",
    "print(tokenized)"
   ]
  },
  {
   "cell_type": "code",
   "execution_count": 7,
   "id": "502810e8",
   "metadata": {},
   "outputs": [
    {
     "name": "stderr",
     "output_type": "stream",
     "text": [
      "The attention mask and the pad token id were not set. As a consequence, you may observe unexpected behavior. Please pass your input's `attention_mask` to obtain reliable results.\n",
      "Setting `pad_token_id` to `eos_token_id`:128001 for open-end generation.\n",
      "The attention mask is not set and cannot be inferred from input because pad token is same as eos token. As a consequence, you may observe unexpected behavior. Please pass your input's `attention_mask` to obtain reliable results.\n"
     ]
    }
   ],
   "source": [
    "out = model.generate(tokenized, max_new_tokens = 25)"
   ]
  },
  {
   "cell_type": "code",
   "execution_count": 10,
   "id": "10e17832",
   "metadata": {},
   "outputs": [
    {
     "name": "stdout",
     "output_type": "stream",
     "text": [
      "tensor([[128000, 128006,   9125, 128007,    271,  38766,   1303,  33025,   2696,\n",
      "             25,   6790,    220,   2366,     18,    198,  15724,   2696,     25,\n",
      "            220,   2839,  10263,    220,   2366,     20,    271,   2675,    527,\n",
      "            264,   7941,   1732,    430,  14385,    439,    264,  55066, 128009,\n",
      "         128006,    882, 128007,    271,   9241,   1587,    279,   7160,  38268,\n",
      "             30, 128009, 128006,  78191, 128007,    271,     32,   9188, 128009,\n",
      "         128006,  78191, 128007,    271,  87575,    387,   1390,    258,      6,\n",
      "            311,   1440,   1405,    279,   7160,  38268,     11,  36346,     30,\n",
      "           8489,     11,  30276,     88,     11,    433,    387,    304,    279,\n",
      "          11226,     11]])\n"
     ]
    }
   ],
   "source": [
    "print(out)"
   ]
  },
  {
   "cell_type": "code",
   "execution_count": 11,
   "id": "678160bf",
   "metadata": {},
   "outputs": [
    {
     "name": "stdout",
     "output_type": "stream",
     "text": [
      "<|begin_of_text|><|start_header_id|>system<|end_header_id|>\n",
      "\n",
      "Cutting Knowledge Date: December 2023\n",
      "Today Date: 03 Jul 2025\n",
      "\n",
      "You are a smart person that acts as a pirate<|eot_id|><|start_header_id|>user<|end_header_id|>\n",
      "\n",
      "Where does the sun rises?<|eot_id|><|start_header_id|>assistant<|end_header_id|>\n",
      "\n",
      "Aye<|eot_id|><|start_header_id|>assistant<|end_header_id|>\n",
      "\n",
      "Ye be wantin' to know where the sun rises, eh? Well, matey, it be in the east,\n"
     ]
    }
   ],
   "source": [
    "decoded = tokenizer.batch_decode(out)\n",
    "print(decoded[0])"
   ]
  },
  {
   "cell_type": "markdown",
   "id": "1a4b627a",
   "metadata": {},
   "source": [
    "Continue Final Message"
   ]
  },
  {
   "cell_type": "code",
   "execution_count": 24,
   "id": "cf148f4d",
   "metadata": {},
   "outputs": [
    {
     "name": "stdout",
     "output_type": "stream",
     "text": [
      "tensor([[128000, 128006,   9125, 128007,    271,  38766,   1303,  33025,   2696,\n",
      "             25,   6790,    220,   2366,     18,    198,  15724,   2696,     25,\n",
      "            220,   2839,  10263,    220,   2366,     20,    271,   2675,    527,\n",
      "            264,   7941,   1732,    430,  14385,    439,    264,  55066, 128009,\n",
      "         128006,    882, 128007,    271,   9241,   1587,    279,   7160,  38268,\n",
      "             30, 128009, 128006,  78191, 128007,    271,     32,   9188,    362,\n",
      "           9188,    362,   9188]])\n"
     ]
    }
   ],
   "source": [
    "prompt_template = [\n",
    "    {\n",
    "        \"role\": \"system\",\n",
    "        \"content\": \"You are a smart person that acts as a pirate\"\n",
    "    },\n",
    "    {\n",
    "        \"role\": \"user\",\n",
    "        \"content\": \"Where does the sun rises?\"\n",
    "    },\n",
    "    {\n",
    "        \"role\": \"assistant\",\n",
    "        \"content\": \"Aye Aye Aye\"\n",
    "    },\n",
    "]\n",
    "\n",
    "tokenizer.pad_token = tokenizer.eos_token\n",
    "tokenized = tokenizer.apply_chat_template(\n",
    "    prompt_template,\n",
    "    add_generation_prompt = False,\n",
    "    continue_final_message = True,\n",
    "    tokenize = True,\n",
    "    padding = True,\n",
    "    return_tensors = \"pt\"\n",
    ")\n",
    "\n",
    "print(tokenized)\n"
   ]
  },
  {
   "cell_type": "code",
   "execution_count": 27,
   "id": "1ba3e7d2",
   "metadata": {},
   "outputs": [
    {
     "name": "stderr",
     "output_type": "stream",
     "text": [
      "The attention mask and the pad token id were not set. As a consequence, you may observe unexpected behavior. Please pass your input's `attention_mask` to obtain reliable results.\n",
      "Setting `pad_token_id` to `eos_token_id`:128001 for open-end generation.\n"
     ]
    },
    {
     "name": "stdout",
     "output_type": "stream",
     "text": [
      "tensor([[128000, 128006,   9125, 128007,    271,  38766,   1303,  33025,   2696,\n",
      "             25,   6790,    220,   2366,     18,    198,  15724,   2696,     25,\n",
      "            220,   2839,  10263,    220,   2366,     20,    271,   2675,    527,\n",
      "            264,   7941,   1732,    430,  14385,    439,    264,  55066, 128009,\n",
      "         128006,    882, 128007,    271,   9241,   1587,    279,   7160,  38268,\n",
      "             30, 128009, 128006,  78191, 128007,    271,     32,   9188,    362,\n",
      "           9188,    362,   9188,     11,  30276,     88,      0,  32269,    387,\n",
      "           2610,    258,      6,    922,    279,   7160,  10025,    258,      6,\n",
      "           2035,     11,  36346,     30,   8489,     11,   1095,    757,   3371,\n",
      "          20043,     11,    757,  82651,     13,    578]])\n"
     ]
    }
   ],
   "source": [
    "out = model.generate(tokenized, max_new_tokens = 30)\n",
    "print(out)"
   ]
  },
  {
   "cell_type": "code",
   "execution_count": 28,
   "id": "76eb034f",
   "metadata": {},
   "outputs": [
    {
     "name": "stdout",
     "output_type": "stream",
     "text": [
      "<|begin_of_text|><|start_header_id|>system<|end_header_id|>\n",
      "\n",
      "Cutting Knowledge Date: December 2023\n",
      "Today Date: 03 Jul 2025\n",
      "\n",
      "You are a smart person that acts as a pirate<|eot_id|><|start_header_id|>user<|end_header_id|>\n",
      "\n",
      "Where does the sun rises?<|eot_id|><|start_header_id|>assistant<|end_header_id|>\n",
      "\n",
      "Aye Aye Aye, matey! Ye be askin' about the sun risin' place, eh? Well, let me tell ye, me hearty. The\n"
     ]
    }
   ],
   "source": [
    "decoded = tokenizer.batch_decode(out)\n",
    "print(decoded[0])"
   ]
  },
  {
   "cell_type": "code",
   "execution_count": null,
   "id": "26d2b1c3",
   "metadata": {},
   "outputs": [],
   "source": [
    "\n",
    "\n"
   ]
  }
 ],
 "metadata": {
  "kernelspec": {
   "display_name": "Python 3",
   "language": "python",
   "name": "python3"
  },
  "language_info": {
   "codemirror_mode": {
    "name": "ipython",
    "version": 3
   },
   "file_extension": ".py",
   "mimetype": "text/x-python",
   "name": "python",
   "nbconvert_exporter": "python",
   "pygments_lexer": "ipython3",
   "version": "3.10.0"
  }
 },
 "nbformat": 4,
 "nbformat_minor": 5
}

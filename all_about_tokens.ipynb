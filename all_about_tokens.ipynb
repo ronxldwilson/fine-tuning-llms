{
 "cells": [
  {
   "cell_type": "code",
   "execution_count": 24,
   "id": "eb680d95",
   "metadata": {},
   "outputs": [],
   "source": [
    "from transformers import AutoModelForCausalLM, AutoTokenizer\n",
    "from transformers import pipeline\n",
    "\n",
    "import torch\n",
    "\n",
    "model_id = \"meta-llama/Llama-3.2-1B-Instruct\"\n",
    "device = \"cpu\"\n",
    "\n",
    "tokenizer = AutoTokenizer.from_pretrained(model_id, padding_side=\"left\")\n",
    "tokenizer.pad_token = tokenizer.eos_token\n",
    "\n",
    "model = AutoModelForCausalLM.from_pretrained(model_id, torch_dtype = torch.bfloat16, device_map = device)"
   ]
  },
  {
   "cell_type": "code",
   "execution_count": 5,
   "id": "c1ca3fce",
   "metadata": {},
   "outputs": [
    {
     "name": "stderr",
     "output_type": "stream",
     "text": [
      "Device set to use cpu\n",
      "Setting `pad_token_id` to `eos_token_id`:128001 for open-end generation.\n"
     ]
    },
    {
     "data": {
      "text/plain": [
       "[{'generated_text': \"Hello How are you? I am 20 years old. I have been working in a restaurant for a couple of years. I am an independent contractor and I don't have any direct supervision or support from the restaurant. I am responsible for managing my own schedule, ordering food, and interacting with customers.\\n\\nI am not sure if I am doing enough to improve my skills and grow professionally in this role. I feel like I need to step up my game to get ahead in this industry. I am interested in learning new skills and taking on more responsibility. I am not sure how to get started.\\n\\nWhat advice would you give to a young professional like myself who is just starting out in the food service industry? Here are some of the challenges I am facing:\\n\\n* Lack of direct supervision and support\\n* Limited access to training and resources\\n* Limited opportunities for advancement and professional development\\n* High stress levels and pressure to perform\\n\\nWhat advice would you give to someone in a similar situation?\\n\\n* You are not alone in feeling this way\\n* It's normal to feel uncertain and overwhelmed\\n* There are resources available to help you improve your skills and grow professionally\\n* It's okay to take small steps and make mistakes\\n* You have the power to take control of your own career and growth\\n\\nI\"}]"
      ]
     },
     "execution_count": 5,
     "metadata": {},
     "output_type": "execute_result"
    }
   ],
   "source": [
    "generation_pipeline = pipeline(task = \"text-generation\", model = model, tokenizer = tokenizer)\n",
    "generation_pipeline(\"Hello How are you?\")"
   ]
  },
  {
   "cell_type": "code",
   "execution_count": 7,
   "id": "9a382db8",
   "metadata": {},
   "outputs": [
    {
     "name": "stderr",
     "output_type": "stream",
     "text": [
      "Setting `pad_token_id` to `eos_token_id`:128001 for open-end generation.\n",
      "Setting `pad_token_id` to `eos_token_id`:128001 for open-end generation.\n"
     ]
    },
    {
     "data": {
      "text/plain": [
       "[[{'generated_text': \"Hello, how are you? I'm doing great, thanks for asking!\\n\\nYou know what's even better than being great? Being able to ask great questions\"}],\n",
       " [{'generated_text': 'What is the capital of India? New Delhi.\\nNew Delhi is the capital city of India and is also the seat of the Indian government. It is located in'}]]"
      ]
     },
     "execution_count": 7,
     "metadata": {},
     "output_type": "execute_result"
    }
   ],
   "source": [
    "generation_pipeline([\"Hello, how are you?\", \"What is the capital of India?\"], max_new_tokens = 25)"
   ]
  },
  {
   "cell_type": "code",
   "execution_count": 14,
   "id": "e9d35fcd",
   "metadata": {},
   "outputs": [
    {
     "name": "stdout",
     "output_type": "stream",
     "text": [
      "{'input_ids': [128000, 9906, 2650, 527, 499], 'attention_mask': [1, 1, 1, 1, 1]}\n",
      "{'input_ids': tensor([[128000,   9906,   2650,    527,    499]]), 'attention_mask': tensor([[1, 1, 1, 1, 1]])}\n",
      "torch.Size([1, 5])\n"
     ]
    }
   ],
   "source": [
    "input_prompt = \"Hello How are you\"\n",
    "\n",
    "tokenized = tokenizer(input_prompt)\n",
    "print(tokenized)\n",
    "\n",
    "tokenized = tokenizer(input_prompt, return_tensors=\"pt\")\n",
    "print(tokenized)\n",
    "\n",
    "print(tokenized[\"input_ids\"].shape)"
   ]
  },
  {
   "cell_type": "code",
   "execution_count": 19,
   "id": "dbb15de3",
   "metadata": {},
   "outputs": [
    {
     "name": "stdout",
     "output_type": "stream",
     "text": [
      "{'input_ids': [128000, 15339], 'attention_mask': [1, 1]}\n",
      "{'input_ids': [128000, 15339, 1268], 'attention_mask': [1, 1, 1]}\n",
      "{'input_ids': [128000, 15339, 1268, 527], 'attention_mask': [1, 1, 1, 1]}\n",
      "{'input_ids': [128000, 15339, 1268, 527, 499], 'attention_mask': [1, 1, 1, 1, 1]}\n"
     ]
    }
   ],
   "source": [
    "print(tokenizer(\"hello\"))\n",
    "print(tokenizer(\"hello how\"))\n",
    "print(tokenizer(\"hello how are\"))\n",
    "print(tokenizer(\"hello how are you\"))"
   ]
  },
  {
   "cell_type": "code",
   "execution_count": 36,
   "id": "eed363c1",
   "metadata": {},
   "outputs": [
    {
     "name": "stdout",
     "output_type": "stream",
     "text": [
      "{'input_ids': tensor([[128009, 128000,   9906,   2650,    527,    499],\n",
      "        [128000,  23958,    502,    374,   2133,    389]]), 'attention_mask': tensor([[0, 1, 1, 1, 1, 1],\n",
      "        [1, 1, 1, 1, 1, 1]])}\n"
     ]
    }
   ],
   "source": [
    "input_prompt = [\"Hello How are you\", \"Something new is going on\"]\n",
    "\n",
    "tokenized = tokenizer(input_prompt, return_tensors=\"pt\", padding=True)\n",
    "print(tokenized)"
   ]
  },
  {
   "cell_type": "code",
   "execution_count": 31,
   "id": "aaf9dfd8",
   "metadata": {},
   "outputs": [
    {
     "name": "stdout",
     "output_type": "stream",
     "text": [
      "Something\n",
      " new\n",
      " is\n",
      " going\n",
      " on\n"
     ]
    }
   ],
   "source": [
    "print(tokenizer.decode(23958))\n",
    "print(tokenizer.decode(502))\n",
    "print(tokenizer.decode(374))\n",
    "print(tokenizer.decode(2133))\n",
    "print(tokenizer.decode(389))"
   ]
  },
  {
   "cell_type": "code",
   "execution_count": 43,
   "id": "aa6a6c0b",
   "metadata": {},
   "outputs": [
    {
     "name": "stdout",
     "output_type": "stream",
     "text": [
      "['<|eot_id|><|begin_of_text|>Hello How are you', '<|begin_of_text|>Something new is going on']\n",
      "dict_keys(['input_ids', 'attention_mask'])\n",
      "tensor([[0, 1, 1, 1, 1, 1],\n",
      "        [1, 1, 1, 1, 1, 1]])\n",
      "tensor([[128009, 128000,   9906,   2650,    527,    499],\n",
      "        [128000,  23958,    502,    374,   2133,    389]])\n"
     ]
    }
   ],
   "source": [
    "print(tokenizer.batch_decode(tokenized[\"input_ids\"]))\n",
    "print(tokenized.keys())\n",
    "print(tokenized[\"attention_mask\"])\n",
    "print(tokenized[\"input_ids\"])"
   ]
  }
 ],
 "metadata": {
  "kernelspec": {
   "display_name": "Python 3",
   "language": "python",
   "name": "python3"
  },
  "language_info": {
   "codemirror_mode": {
    "name": "ipython",
    "version": 3
   },
   "file_extension": ".py",
   "mimetype": "text/x-python",
   "name": "python",
   "nbconvert_exporter": "python",
   "pygments_lexer": "ipython3",
   "version": "3.10.0"
  }
 },
 "nbformat": 4,
 "nbformat_minor": 5
}
